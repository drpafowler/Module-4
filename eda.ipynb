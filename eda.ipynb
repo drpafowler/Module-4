{
 "cells": [
  {
   "cell_type": "code",
   "execution_count": 66,
   "metadata": {},
   "outputs": [
    {
     "name": "stdout",
     "output_type": "stream",
     "text": [
      "  Homeowner  Credit Score\n",
      "0         Y           725\n",
      "1         Y           573\n",
      "2         Y           677\n",
      "3         N           625\n",
      "4         N           527\n",
      "  Homeowner  Credit Score\n",
      "0         Y           725\n",
      "1         Y           573\n",
      "2         Y           677\n",
      "5         Y           795\n",
      "8         Y           591\n",
      "   Homeowner  Credit Score\n",
      "3          N           625\n",
      "4          N           527\n",
      "6          N           733\n",
      "7          N           620\n",
      "13         N           620\n"
     ]
    }
   ],
   "source": [
    "import pandas as pd\n",
    "import numpy as np\n",
    "import scipy.stats as stats\n",
    "data = pd.read_csv('FowlerModule04-2.csv', usecols=['Homeowner', 'Credit Score'])\n",
    "homeowner = data[data['Homeowner'] == 'Y']\n",
    "non_homeowner = data[data['Homeowner'] == 'N']\n",
    "print(data.head()) \n",
    "print(homeowner.head())\n",
    "print(non_homeowner.head())"
   ]
  },
  {
   "cell_type": "code",
   "execution_count": 67,
   "metadata": {},
   "outputs": [
    {
     "name": "stdout",
     "output_type": "stream",
     "text": [
      "       Credit Score\n",
      "count     27.000000\n",
      "mean     692.666667\n",
      "std       80.619715\n",
      "min      500.000000\n",
      "25%      645.500000\n",
      "50%      699.000000\n",
      "75%      753.500000\n",
      "max      811.000000\n",
      "       Credit Score\n",
      "count     23.000000\n",
      "mean     604.869565\n",
      "std       77.574776\n",
      "min      485.000000\n",
      "25%      545.500000\n",
      "50%      600.000000\n",
      "75%      637.500000\n",
      "max      763.000000\n"
     ]
    }
   ],
   "source": [
    "print(homeowner.describe())\n",
    "print(non_homeowner.describe())"
   ]
  },
  {
   "cell_type": "code",
   "execution_count": 68,
   "metadata": {},
   "outputs": [
    {
     "name": "stdout",
     "output_type": "stream",
     "text": [
      "Confidence interval for homeowners' credit score: (np.float64(660.7745695482795), np.float64(724.5587637850538))\n"
     ]
    }
   ],
   "source": [
    "# Calculate the mean and standard error of the mean (SEM) for homeowners\n",
    "mean_homeowner = homeowner['Credit Score'].mean()\n",
    "sem_homeowner = stats.sem(homeowner['Credit Score'])\n",
    "\n",
    "\n",
    "# Calculate the confidence interval\n",
    "confidence_interval_homeowner = stats.t.interval(0.95, len(homeowner['Credit Score'])-1, loc=mean_homeowner, scale=sem_homeowner)\n",
    "print(\"Confidence interval for homeowners' credit score:\", confidence_interval_homeowner)"
   ]
  },
  {
   "cell_type": "code",
   "execution_count": 69,
   "metadata": {},
   "outputs": [
    {
     "name": "stdout",
     "output_type": "stream",
     "text": [
      "Confidence interval for non-homeowners' credit score: (np.float64(571.3237165728597), np.float64(638.4154138619228))\n"
     ]
    }
   ],
   "source": [
    "# Calculate the mean and standard error of the mean (SEM) for non-homeowners\n",
    "mean_non_homeowner = non_homeowner['Credit Score'].mean()\n",
    "sem_non_homeowner = stats.sem(non_homeowner['Credit Score'])\n",
    "\n",
    "# Calculate the confidence interval\n",
    "confidence_interval_non_homeowner = stats.t.interval(0.95, len(non_homeowner['Credit Score'])-1, loc=mean_non_homeowner, scale=sem_non_homeowner)\n",
    "print(\"Confidence interval for non-homeowners' credit score:\", confidence_interval_non_homeowner)"
   ]
  },
  {
   "cell_type": "code",
   "execution_count": 70,
   "metadata": {},
   "outputs": [
    {
     "name": "stdout",
     "output_type": "stream",
     "text": [
      "The T-value for homeowners is: 2.055529438642871\n",
      "The margin of error for homeowners is: 32.47732202575386\n",
      "The mean credit score for homeowners is: 692.6666666666666\n",
      "Prediction interval for homeowners' credit score: (np.float64(660.1893446409127), np.float64(725.1439886924205))\n"
     ]
    }
   ],
   "source": [
    "# Calculate the prediction interval for homeowners\n",
    "n_homeowner = len(homeowner['Credit Score'])\n",
    "t_value_homeowner = stats.t.ppf(0.975, n_homeowner - 1)\n",
    "margin_of_error_homeowner = t_value_homeowner * sem_homeowner * np.sqrt(1 + 1/n_homeowner)\n",
    "\n",
    "prediction_interval_homeowner = (mean_homeowner - margin_of_error_homeowner, mean_homeowner + margin_of_error_homeowner)\n",
    "print(\"The T-value for homeowners is:\", t_value_homeowner)\n",
    "print(\"The margin of error for homeowners is:\", margin_of_error_homeowner)\n",
    "print(\"The mean credit score for homeowners is:\", mean_homeowner)\n",
    "print(\"Prediction interval for homeowners' credit score:\", prediction_interval_homeowner)"
   ]
  },
  {
   "cell_type": "code",
   "execution_count": 71,
   "metadata": {},
   "outputs": [
    {
     "name": "stdout",
     "output_type": "stream",
     "text": [
      "The T-value for non-homeowners:  2.0738730679040147\n",
      "The margin of error for non-homeowners:  34.26734728620248\n",
      "The mean credit score for non-homeowners:  604.8695652173913\n",
      "prediction interval for non-homeowners:  (np.float64(570.6022179311888), np.float64(639.1369125035937))\n"
     ]
    }
   ],
   "source": [
    "# Calculate the prediction interval for non-homeowners\n",
    "n_non_homeowner = len(non_homeowner['Credit Score'])\n",
    "t_value_non_homeowner = stats.t.ppf(0.975, n_non_homeowner - 1)\n",
    "margin_of_error_non_homeowner = t_value_non_homeowner * sem_non_homeowner * np.sqrt(1 + 1/n_non_homeowner)\n",
    "\n",
    "prediction_interval_non_homeowner = (mean_non_homeowner - margin_of_error_non_homeowner, mean_non_homeowner + margin_of_error_non_homeowner)\n",
    "print(\"The T-value for non-homeowners: \", t_value_non_homeowner)\n",
    "print(\"The margin of error for non-homeowners: \", margin_of_error_non_homeowner)\n",
    "print(\"The mean credit score for non-homeowners: \", mean_non_homeowner)\n",
    "print(\"prediction interval for non-homeowners: \", prediction_interval_non_homeowner)"
   ]
  }
 ],
 "metadata": {
  "kernelspec": {
   "display_name": ".venv",
   "language": "python",
   "name": "python3"
  },
  "language_info": {
   "codemirror_mode": {
    "name": "ipython",
    "version": 3
   },
   "file_extension": ".py",
   "mimetype": "text/x-python",
   "name": "python",
   "nbconvert_exporter": "python",
   "pygments_lexer": "ipython3",
   "version": "3.12.3"
  }
 },
 "nbformat": 4,
 "nbformat_minor": 2
}
